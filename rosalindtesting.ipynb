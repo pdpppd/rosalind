{
 "cells": [
  {
   "cell_type": "code",
   "execution_count": 2,
   "metadata": {},
   "outputs": [
    {
     "name": "stdout",
     "output_type": "stream",
     "text": [
      "199 227 214 212 "
     ]
    }
   ],
   "source": [
    "dataset = 'TGGTTGGCAGAAGAGTCTTGGTACGGCACTGATCTTCACAATCAAGTATCCAATTTCGCCCGCGTACGAAGGACCGTCTCACGCAGCAGAGGTCTGAAGTGGTGTCTCCACAATTGTTAAATGGGTCGTGTCGATGTACCTGAACACCGGCTGGTCCGATTTCGACTATACACGGGTACCGAGTGGATCACCGCGATTGTACCAGGATTGTTGAGCACGGTCGATCCCGAAGGGCAGCGAGCTCCGCTACTAACTCCCCCCGGTATGCAGTGGTTGTTACCAATGCTAGGGGAAAAGTATCAGGCCCTATCATAGTCCGATTGTTGGGGTAAAATAGCAACTAGAAAGCCCTTCAGCCCTGGACATTGGGCTCTCCATTGTTGGTAAAGTATCCCCATTCCCCACTAGAGATGCATCGGGTAGCCGCGTTGACTCTGCTGTCGAGCGGCTTCTTTTGAGGGAGAGCTATTGGCAAAGACGTCAGCACTGTCCACAGGCAAACAGTAGGTTCCGCCGCCGCTGATTCATCCTTGTCAATCCATTGATAACGAGGCTTACTCCTGCTACTGAGCTCCAAAATCCACCATCAGAAATCGACCTTCCTGTGTTTCTATGTCGGTTGGAAATTTCAGAGCAAGACCTGTCAGCAGCACTGCCCGGCCCCAATACTGTTGCTAGGTCTCGCGTGATTGTTTCTCGACGCTGGCCAGCTTGTCCAATGACGTTCGGGAGGACGATGTCTTCAAGAAGGTTGCGTGAACGCCATTGTAATCCAACACACTTCATACTTCACACGCTTGGAGATATGCGCGCGTATGCCCACGACTCCAGTTAGTTGTAAACACGATCCAC'\n",
    "data_list = list(dataset)\n",
    "nucleotides = ['A', 'C', 'G', 'T']\n",
    "for nucleotide in nucleotides: \n",
    "    count = data_list.count(nucleotide)\n",
    "    print(count, end = \" \")"
   ]
  },
  {
   "cell_type": "code",
   "execution_count": 4,
   "metadata": {},
   "outputs": [
    {
     "name": "stdout",
     "output_type": "stream",
     "text": [
      "GAGGACAGUCUUGUCCGGAUUGGUUAGCGGCGUCAAUCGCUAAGUCGUGGACAGCCUAGAUAGCUUACGUCCAUACCUCAGGCGUGCUACUCCAGAGAGUAUCUGCUUGCCGUGCUCGGGUCUGUACUAGUGGUGCUGCCUGCCACCGAAGAUGGUGGCGAGUGAUAGUGCUAAACGUGGGCGGGGGUGACUCGACAGCGCUUCAGCGCAUUUUGCGUCGCGGUGUAUAUGAUGUAUUAGGAACCAAUGGCUCUUUAACCCUUUUUUGGCGUGGUCAACUCGGUGCCCAUCUGUUUAGCUGGAAUGAGGCAGGUCCAGCUAAAUUAAUUUUCGAUCUCCCAGUGACACGAGGCGUAUAGACAGGGACCAAAGACACUGCCUGUGGCGCACAUCUAAGCUUCGAAAUGUGAAACGAUUAGAUGCUAUGCCUAUGCCUUUAAAAUAAUUUGGCACUCACACGUACUAGAAACAGUCGACUGUAAUCAUGUUCGCCGCCAAGACAAUAUUUGUUGAACGCAGCUAUCGUGAUUUCUCGUCGUCUGUACUUACCGCCCCCUAAUGAAAUCCCGAUCCUUACCUAUGGUUCACCUGCGCUGUUAACGAGACUAGAGGGUACGGAGGUCUAGAAUGAACAUGGCCCUUUACAAUGGUGACUGACCCAUACUGCUGAUUGAAUCAUCUGGUCAACGGGAAAGUGCGGAUGGUGGCAUCCUUAUGAUUUUUCCCUUACCUACUCUAGAGCAUAAAGGACUUGACUAAUAUUGCCCCUAGGCUGGAACAACGUGAGAUAAUAGAAUCAGACACCAUGAACAUAAGACGGGACUCCAAACGAACUAGUUAACACUGCGCACAUCUCUCAGGGCCAUAUCACAGCGCGUCCAUUAGAUUAUUAUGUUACACGGCGAUGGCGUCUUAUUGCGGCCAAUUAGCUAUAAGCCCUGACCCUACGCAGCCUAGCCGAGAUUAAUCCUGCUAUGUCAUCUUC\n"
     ]
    }
   ],
   "source": [
    "sample = 'GAGGACAGTCTTGTCCGGATTGGTTAGCGGCGTCAATCGCTAAGTCGTGGACAGCCTAGATAGCTTACGTCCATACCTCAGGCGTGCTACTCCAGAGAGTATCTGCTTGCCGTGCTCGGGTCTGTACTAGTGGTGCTGCCTGCCACCGAAGATGGTGGCGAGTGATAGTGCTAAACGTGGGCGGGGGTGACTCGACAGCGCTTCAGCGCATTTTGCGTCGCGGTGTATATGATGTATTAGGAACCAATGGCTCTTTAACCCTTTTTTGGCGTGGTCAACTCGGTGCCCATCTGTTTAGCTGGAATGAGGCAGGTCCAGCTAAATTAATTTTCGATCTCCCAGTGACACGAGGCGTATAGACAGGGACCAAAGACACTGCCTGTGGCGCACATCTAAGCTTCGAAATGTGAAACGATTAGATGCTATGCCTATGCCTTTAAAATAATTTGGCACTCACACGTACTAGAAACAGTCGACTGTAATCATGTTCGCCGCCAAGACAATATTTGTTGAACGCAGCTATCGTGATTTCTCGTCGTCTGTACTTACCGCCCCCTAATGAAATCCCGATCCTTACCTATGGTTCACCTGCGCTGTTAACGAGACTAGAGGGTACGGAGGTCTAGAATGAACATGGCCCTTTACAATGGTGACTGACCCATACTGCTGATTGAATCATCTGGTCAACGGGAAAGTGCGGATGGTGGCATCCTTATGATTTTTCCCTTACCTACTCTAGAGCATAAAGGACTTGACTAATATTGCCCCTAGGCTGGAACAACGTGAGATAATAGAATCAGACACCATGAACATAAGACGGGACTCCAAACGAACTAGTTAACACTGCGCACATCTCTCAGGGCCATATCACAGCGCGTCCATTAGATTATTATGTTACACGGCGATGGCGTCTTATTGCGGCCAATTAGCTATAAGCCCTGACCCTACGCAGCCTAGCCGAGATTAATCCTGCTATGTCATCTTC'\n",
    "result = sample.replace(\"T\", \"U\")\n",
    "print(result)"
   ]
  },
  {
   "cell_type": "code",
   "execution_count": 8,
   "metadata": {},
   "outputs": [
    {
     "name": "stdout",
     "output_type": "stream",
     "text": [
      "ATTCCCAACGTTCCCGCCGGCCAGTGGAACTGGGAGATAGATTCGACCTTTAGATTCAGGGGCTTAGGGCATGAGAATCCGAAGTTTTGGACTAGTGAGGTGATTTTGAGGTAGAACATGTCTGTGTCAGAGTTGGGGTTGCGCTGCGACTCGCGTTTACTGTCCGACAGAGTGTTTCATCTCCCCCGTAAATTCGAGGGGGAATGAAGCAAGATTCTTGAGCATATACATAACCTTCGAATGAGGGAAAATCGATCCTCCGCTAATGAATGTAGCAATGCATATCCCGACTTCTTATACGGGAATATCATGGCAGAATGTGTTGAAAACCGACCGCGCAGCCTGATACGACTTCACGAAAGTTGTCCCGCACAGCTGTGAGGAACCAGGGTTATACGACATTACCTGAACGAACTTTTCGAACACCATGGGAGACTGTGCATAGCAACTTCCGCGAGTGGTCTAGTGGTCCCCCTCGGGAAGCGCGCAAGCGACGTGTCCGATGGACGACGAGTCCAACTTTATGAGACCCAAAGTACATTTGGAATGGAAGGGGGTACTCACACCGCACCCTACACTAGTGAAGATGTCACAAATGATCAAGCTTTCCGCGACAGTAACATTCTAAACTTCGAAACGTTCACATATTTGTGGCCACCGACTGGTTCTCCCTTCAGGAGGGTATCACTCTCCATACGGAGAAAATCTGGGCGATAGTCCTGATCGTAGGTGTGGTTCGTTCTTCAAGTGAGCGATGGTCTGCAAGTCGCTAATTTTGGATCTTCATCCCCTGCCCTGACTTGGGCGAGGGGGCTACATAGTCATTATGTAGCTCGTTTATCAGATCCCAAGGACTAAAGGACCATAAGCGTAGCTTGCAGATCAGCACGGTGCTACCGTCCTACTGGTCAAGACTTAACGCACATAG\n"
     ]
    }
   ],
   "source": [
    "# Reverse complement\n",
    "\n",
    "data = 'CTATGTGCGTTAAGTCTTGACCAGTAGGACGGTAGCACCGTGCTGATCTGCAAGCTACGCTTATGGTCCTTTAGTCCTTGGGATCTGATAAACGAGCTACATAATGACTATGTAGCCCCCTCGCCCAAGTCAGGGCAGGGGATGAAGATCCAAAATTAGCGACTTGCAGACCATCGCTCACTTGAAGAACGAACCACACCTACGATCAGGACTATCGCCCAGATTTTCTCCGTATGGAGAGTGATACCCTCCTGAAGGGAGAACCAGTCGGTGGCCACAAATATGTGAACGTTTCGAAGTTTAGAATGTTACTGTCGCGGAAAGCTTGATCATTTGTGACATCTTCACTAGTGTAGGGTGCGGTGTGAGTACCCCCTTCCATTCCAAATGTACTTTGGGTCTCATAAAGTTGGACTCGTCGTCCATCGGACACGTCGCTTGCGCGCTTCCCGAGGGGGACCACTAGACCACTCGCGGAAGTTGCTATGCACAGTCTCCCATGGTGTTCGAAAAGTTCGTTCAGGTAATGTCGTATAACCCTGGTTCCTCACAGCTGTGCGGGACAACTTTCGTGAAGTCGTATCAGGCTGCGCGGTCGGTTTTCAACACATTCTGCCATGATATTCCCGTATAAGAAGTCGGGATATGCATTGCTACATTCATTAGCGGAGGATCGATTTTCCCTCATTCGAAGGTTATGTATATGCTCAAGAATCTTGCTTCATTCCCCCTCGAATTTACGGGGGAGATGAAACACTCTGTCGGACAGTAAACGCGAGTCGCAGCGCAACCCCAACTCTGACACAGACATGTTCTACCTCAAAATCACCTCACTAGTCCAAAACTTCGGATTCTCATGCCCTAAGCCCCTGAATCTAAAGGTCGAATCTATCTCCCAGTTCCACTGGCCGGCGGGAACGTTGGGAAT'\n",
    "data = data[::-1]\n",
    "complement = {'A': 'T','T': 'A' ,'C': 'G','G': 'C'}\n",
    "data = list(data)\n",
    "data = list(map(lambda x: complement[x], data))\n",
    "result = ''.join(data)\n",
    "print(result)"
   ]
  },
  {
   "cell_type": "code",
   "execution_count": 1,
   "metadata": {},
   "outputs": [],
   "source": [
    "def fib(n, k):\n",
    "    if n == 1 or n == 2: \n",
    "        return 1\n",
    "    else: \n",
    "        return fib(n - 1, k) + (k * fib(n - 2), k)"
   ]
  },
  {
   "cell_type": "code",
   "execution_count": 2,
   "metadata": {},
   "outputs": [
    {
     "ename": "TypeError",
     "evalue": "fib() missing 1 required positional argument: 'k'",
     "output_type": "error",
     "traceback": [
      "\u001b[1;31m---------------------------------------------------------------------------\u001b[0m",
      "\u001b[1;31mTypeError\u001b[0m                                 Traceback (most recent call last)",
      "\u001b[1;32m~\\AppData\\Local\\Temp/ipykernel_8316/2026095914.py\u001b[0m in \u001b[0;36m<module>\u001b[1;34m\u001b[0m\n\u001b[1;32m----> 1\u001b[1;33m \u001b[0mfib\u001b[0m\u001b[1;33m(\u001b[0m\u001b[1;36m5\u001b[0m\u001b[1;33m,\u001b[0m \u001b[1;36m1\u001b[0m\u001b[1;33m)\u001b[0m\u001b[1;33m\u001b[0m\u001b[1;33m\u001b[0m\u001b[0m\n\u001b[0m",
      "\u001b[1;32m~\\AppData\\Local\\Temp/ipykernel_8316/3033632092.py\u001b[0m in \u001b[0;36mfib\u001b[1;34m(n, k)\u001b[0m\n\u001b[0;32m      3\u001b[0m         \u001b[1;32mreturn\u001b[0m \u001b[1;36m1\u001b[0m\u001b[1;33m\u001b[0m\u001b[1;33m\u001b[0m\u001b[0m\n\u001b[0;32m      4\u001b[0m     \u001b[1;32melse\u001b[0m\u001b[1;33m:\u001b[0m\u001b[1;33m\u001b[0m\u001b[1;33m\u001b[0m\u001b[0m\n\u001b[1;32m----> 5\u001b[1;33m         \u001b[1;32mreturn\u001b[0m \u001b[0mfib\u001b[0m\u001b[1;33m(\u001b[0m\u001b[0mn\u001b[0m \u001b[1;33m-\u001b[0m \u001b[1;36m1\u001b[0m\u001b[1;33m)\u001b[0m \u001b[1;33m+\u001b[0m \u001b[1;33m(\u001b[0m\u001b[0mk\u001b[0m \u001b[1;33m*\u001b[0m \u001b[0mfib\u001b[0m\u001b[1;33m(\u001b[0m\u001b[0mn\u001b[0m \u001b[1;33m-\u001b[0m \u001b[1;36m2\u001b[0m\u001b[1;33m)\u001b[0m\u001b[1;33m)\u001b[0m\u001b[1;33m\u001b[0m\u001b[1;33m\u001b[0m\u001b[0m\n\u001b[0m",
      "\u001b[1;31mTypeError\u001b[0m: fib() missing 1 required positional argument: 'k'"
     ]
    }
   ],
   "source": [
    "fib(5, 1)"
   ]
  },
  {
   "cell_type": "code",
   "execution_count": 14,
   "metadata": {},
   "outputs": [],
   "source": [
    "from difflib import SequenceMatcher\n",
    "\n",
    "\n",
    "string1 = \"apple pie available\"\n",
    "string2 = \"come have some apple pies\"\n",
    "def matchdata(string1, string2):\n",
    "    match = SequenceMatcher(None, string1, string2).find_longest_match()\n",
    "    return match, string1[match.a:match.a + match.size], string2[match.b:match.b + match.size]\n"
   ]
  },
  {
   "cell_type": "code",
   "execution_count": 3,
   "metadata": {},
   "outputs": [],
   "source": [
    "m, s, b = matchdata('swaha', 'loudaswahasamarpayami')"
   ]
  },
  {
   "cell_type": "code",
   "execution_count": 4,
   "metadata": {},
   "outputs": [
    {
     "name": "stdout",
     "output_type": "stream",
     "text": [
      "Match(a=0, b=5, size=5) swaha swaha\n"
     ]
    }
   ],
   "source": [
    "print(m, s, b)"
   ]
  },
  {
   "cell_type": "code",
   "execution_count": 5,
   "metadata": {},
   "outputs": [],
   "source": [
    "a = 'GATGAAATTGTGGTTCGTTCCGCTGGTGCTGCACGGAGCTCTCCCAGATGCCGGGGGAGATGGGGCGAGCATGGACTCACTTCATCTGTCGA'"
   ]
  },
  {
   "cell_type": "code",
   "execution_count": 6,
   "metadata": {},
   "outputs": [
    {
     "data": {
      "text/plain": [
       "92"
      ]
     },
     "execution_count": 6,
     "metadata": {},
     "output_type": "execute_result"
    }
   ],
   "source": [
    "len(a)"
   ]
  },
  {
   "cell_type": "code",
   "execution_count": 7,
   "metadata": {},
   "outputs": [
    {
     "name": "stdout",
     "output_type": "stream",
     "text": [
      "h\n",
      "e\n",
      "l\n",
      "l\n",
      "o\n"
     ]
    }
   ],
   "source": [
    "a = 'hello'\n",
    "for letter in a: \n",
    "    print(letter)"
   ]
  },
  {
   "cell_type": "code",
   "execution_count": 34,
   "metadata": {},
   "outputs": [],
   "source": [
    "def matchdata2(string1, string2):\n",
    "    string1 = string1[::-1]\n",
    "    match = ''\n",
    "    for i, base in enumerate(string1):\n",
    "        if base == string2[i]:\n",
    "            match = match + 'm'\n",
    "        else: \n",
    "            match = match + 'f'\n",
    "    return match"
   ]
  },
  {
   "cell_type": "code",
   "execution_count": 71,
   "metadata": {},
   "outputs": [],
   "source": [
    "a = 'AAATAAA'\n",
    "b = 'AAATTTT'"
   ]
  },
  {
   "cell_type": "code",
   "execution_count": 85,
   "metadata": {},
   "outputs": [],
   "source": [
    "def matchie(a, b):\n",
    "    cnt = 0\n",
    "    bruh = True\n",
    "    while bruh == True: \n",
    "        if a[:cnt] == b[-cnt:]:\n",
    "            print('yay')\n",
    "            print(a[:cnt])\n",
    "            print(b[-cnt:])\n",
    "        elif a[-cnt:] == b[:cnt]:\n",
    "            print('yay')\n",
    "            print(a[-cnt:])\n",
    "            print(b[:cnt])\n",
    "\n",
    "        if cnt == len(a):\n",
    "            break\n",
    "        cnt += 1"
   ]
  },
  {
   "cell_type": "code",
   "execution_count": 86,
   "metadata": {},
   "outputs": [
    {
     "name": "stdout",
     "output_type": "stream",
     "text": [
      "yay\n",
      "A\n",
      "A\n",
      "yay\n",
      "AA\n",
      "AA\n",
      "yay\n",
      "AAA\n",
      "AAA\n"
     ]
    }
   ],
   "source": [
    "matchie(a, b)"
   ]
  },
  {
   "cell_type": "code",
   "execution_count": 80,
   "metadata": {},
   "outputs": [
    {
     "name": "stdout",
     "output_type": "stream",
     "text": [
      "A\n",
      "T\n"
     ]
    }
   ],
   "source": [
    "cnt = 1\n",
    "print(a[:cnt])\n",
    "print(b[-cnt:])"
   ]
  },
  {
   "cell_type": "code",
   "execution_count": null,
   "metadata": {},
   "outputs": [],
   "source": []
  }
 ],
 "metadata": {
  "interpreter": {
   "hash": "83ff1fe26caae9f0d3a5c55bf8b0a01b7b95b0a8f4d199524077ca3589009064"
  },
  "kernelspec": {
   "display_name": "Python 3.9.13 64-bit (windows store)",
   "language": "python",
   "name": "python3"
  },
  "language_info": {
   "codemirror_mode": {
    "name": "ipython",
    "version": 3
   },
   "file_extension": ".py",
   "mimetype": "text/x-python",
   "name": "python",
   "nbconvert_exporter": "python",
   "pygments_lexer": "ipython3",
   "version": "3.9.0"
  },
  "orig_nbformat": 4
 },
 "nbformat": 4,
 "nbformat_minor": 2
}
