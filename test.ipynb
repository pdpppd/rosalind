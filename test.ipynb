{
 "cells": [
  {
   "cell_type": "code",
   "execution_count": 18,
   "metadata": {},
   "outputs": [],
   "source": [
    "def process_fasta(path):\n",
    "    raw = open(path)\n",
    "    raw = raw.read()\n",
    "    rawsplit = raw.split('\\n')\n",
    "    fasta = list(map(lambda x: x[1:] if x[0] == '>' else x, rawsplit))\n",
    "    final = {}\n",
    "    for i in range(0, len(fasta), 2):\n",
    "        final[fasta[i]] = fasta[i+1]\n",
    "\n",
    "    return final"
   ]
  },
  {
   "cell_type": "code",
   "execution_count": 19,
   "metadata": {},
   "outputs": [
    {
     "data": {
      "text/plain": [
       "{0: 'ATCCAGCT',\n",
       " 2: 'GGGCAACT',\n",
       " 4: 'ATGGATCT',\n",
       " 6: 'AAGCAACC',\n",
       " 8: 'TTGGAACT',\n",
       " 10: 'ATGCCATT',\n",
       " 12: 'ATGGCACT'}"
      ]
     },
     "execution_count": 19,
     "metadata": {},
     "output_type": "execute_result"
    }
   ],
   "source": [
    "process_fasta('sample.txt')"
   ]
  },
  {
   "cell_type": "code",
   "execution_count": null,
   "metadata": {},
   "outputs": [],
   "source": []
  }
 ],
 "metadata": {
  "interpreter": {
   "hash": "aee8b7b246df8f9039afb4144a1f6fd8d2ca17a180786b69acc140d282b71a49"
  },
  "kernelspec": {
   "display_name": "Python 3.9.0 64-bit",
   "language": "python",
   "name": "python3"
  },
  "language_info": {
   "codemirror_mode": {
    "name": "ipython",
    "version": 3
   },
   "file_extension": ".py",
   "mimetype": "text/x-python",
   "name": "python",
   "nbconvert_exporter": "python",
   "pygments_lexer": "ipython3",
   "version": "3.9.0"
  },
  "orig_nbformat": 4
 },
 "nbformat": 4,
 "nbformat_minor": 2
}
