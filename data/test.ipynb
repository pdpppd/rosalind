{
 "cells": [
  {
   "cell_type": "code",
   "execution_count": 87,
   "metadata": {},
   "outputs": [],
   "source": [
    "def process_fasta(path):\n",
    "    raw = open(path)\n",
    "    raw = raw.read()\n",
    "    new = raw.split('\\n')\n",
    "    indices = []\n",
    "    final = {}\n",
    "    for index, item in enumerate(new): \n",
    "        if item[0] == '>':\n",
    "            indices.append(index)\n",
    "    for i, index in enumerate(indices): \n",
    "        if index == indices[-1]:\n",
    "            a = ''.join(new[index + 1:])\n",
    "        else:   \n",
    "            a = ''.join(new[index + 1: indices[i + 1]])\n",
    "            name = new[index]\n",
    "            name = name[1:]\n",
    "            final[name] = a\n",
    "        print(a)\n",
    "\n",
    "    return final"
   ]
  },
  {
   "cell_type": "code",
   "execution_count": 88,
   "metadata": {},
   "outputs": [
    {
     "name": "stdout",
     "output_type": "stream",
     "text": [
      "ATCCAGCT\n",
      "GGGCAACT\n",
      "ATGGATCT\n",
      "AAGCAACC\n",
      "TTGGAACT\n",
      "ATGCCATT\n",
      "ATGGCACT\n"
     ]
    },
    {
     "data": {
      "text/plain": [
       "{'>Rosalind_1': 'ATCCAGCT',\n",
       " '>Rosalind_2': 'GGGCAACT',\n",
       " '>Rosalind_3': 'ATGGATCT',\n",
       " '>Rosalind_4': 'AAGCAACC',\n",
       " '>Rosalind_5': 'TTGGAACT',\n",
       " '>Rosalind_6': 'ATGCCATT'}"
      ]
     },
     "execution_count": 88,
     "metadata": {},
     "output_type": "execute_result"
    }
   ],
   "source": [
    "process_fasta('sample.txt')\n",
    "# returns a dictionary of the name of the sequence and the sequence itself in the form of a list"
   ]
  },
  {
   "cell_type": "code",
   "execution_count": null,
   "metadata": {},
   "outputs": [],
   "source": []
  }
 ],
 "metadata": {
  "interpreter": {
   "hash": "aee8b7b246df8f9039afb4144a1f6fd8d2ca17a180786b69acc140d282b71a49"
  },
  "kernelspec": {
   "display_name": "Python 3.9.0 64-bit",
   "language": "python",
   "name": "python3"
  },
  "language_info": {
   "codemirror_mode": {
    "name": "ipython",
    "version": 3
   },
   "file_extension": ".py",
   "mimetype": "text/x-python",
   "name": "python",
   "nbconvert_exporter": "python",
   "pygments_lexer": "ipython3",
   "version": "3.9.0"
  },
  "orig_nbformat": 4
 },
 "nbformat": 4,
 "nbformat_minor": 2
}
